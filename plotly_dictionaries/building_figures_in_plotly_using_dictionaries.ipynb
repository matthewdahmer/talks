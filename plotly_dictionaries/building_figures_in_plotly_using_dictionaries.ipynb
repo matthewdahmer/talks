{
 "cells": [
  {
   "cell_type": "markdown",
   "id": "9f4054bd-e668-4170-9d48-f4221577286c",
   "metadata": {},
   "source": [
    "# Building Figures in Plotly using Dictionaries\n",
    "\n",
    "https://plotly.com/python/creating-and-updating-figures/"
   ]
  },
  {
   "cell_type": "code",
   "execution_count": 67,
   "id": "9adb196a-53ab-4741-9576-c5a8c75b9c7c",
   "metadata": {},
   "outputs": [],
   "source": [
    "from datetime import datetime, timedelta\n",
    "from typing import Any\n",
    "\n",
    "import numpy as np\n",
    "import pandas as pd\n",
    "import plotly.express as px\n",
    "import plotly.io as pio\n",
    "from numpy.typing import NDArray"
   ]
  },
  {
   "cell_type": "markdown",
   "id": "7ab51003-8f25-49e0-a58e-61d4876b6afd",
   "metadata": {},
   "source": [
    "## Helpful Functions"
   ]
  },
  {
   "cell_type": "code",
   "execution_count": 68,
   "id": "a6bb1c55-2972-47f5-aac1-76a42304eed9",
   "metadata": {},
   "outputs": [],
   "source": [
    "def datetime_range(start: datetime, end: datetime, step: timedelta) -> list[datetime]:\n",
    "    \"\"\"Generate a list of datetime objects from start to end with a specified step.\n",
    "\n",
    "    :param start: Start datetime\n",
    "    :type start: datetime\n",
    "    :param end: End datetime\n",
    "    :type end: datetime\n",
    "    :param step: Time delta for each step\n",
    "    :type step: timedelta\n",
    "    :return: List of datetime objects\n",
    "    :rtype: list[datetime]\n",
    "\n",
    "    \"\"\"\n",
    "    return [start + i * step for i in range((end - start) // step)]\n",
    "\n",
    "\n",
    "def generate_plot_data(\n",
    "    x: list[datetime] | NDArray[datetime],\n",
    "    y: list[float] | list[int] | NDArray[float] | NDArray[int],\n",
    ") -> list[dict[str, Any]]:\n",
    "    \"\"\"Generate a simple plot data structure for a scatter plot.\n",
    "\n",
    "    :param x: X-axis data (can be datetime, int, or float)\n",
    "    :type x: datetime | int | float\n",
    "    :param y: Y-axis data (int or float)\n",
    "    :type y: int | float\n",
    "    :return: List containing a dictionary with plot data\n",
    "    :rtype: list\n",
    "\n",
    "    \"\"\"\n",
    "    return [\n",
    "        {\n",
    "            \"type\": \"scattergl\",\n",
    "            \"x\": x,\n",
    "            \"y\": y,\n",
    "            \"name\": \"made up data\",\n",
    "            \"line\": {\"color\": \"#444444\", \"width\": 1, \"shape\": \"hv\"},\n",
    "            \"marker\": {\"color\": \"#444444\", \"size\": 2},\n",
    "            \"mode\": \"lines+markers\",\n",
    "        },\n",
    "    ]"
   ]
  },
  {
   "cell_type": "markdown",
   "id": "144f2167-acf3-4fd8-a5d0-9ab598c329dc",
   "metadata": {},
   "source": [
    "## Build Plot"
   ]
  },
  {
   "cell_type": "markdown",
   "id": "b5e0e609-e79d-4726-82bb-763f0cfbee5e",
   "metadata": {},
   "source": [
    "### Plot Formatting"
   ]
  },
  {
   "cell_type": "code",
   "execution_count": 69,
   "id": "ca7c30b0-887b-48f9-b30d-f1f7eda7d7f4",
   "metadata": {},
   "outputs": [],
   "source": [
    "width = 1200\n",
    "\n",
    "height = 600\n",
    "\n",
    "font = \"Arial\"\n",
    "\n",
    "title_format = {\n",
    "    \"family\": font,\n",
    "    \"size\": 36,\n",
    "    \"color\": \"#444444\",\n",
    "}\n",
    "\n",
    "axis_format = {\"family\": font, \"size\": 24, \"color\": \"#444444\"}\n",
    "\n",
    "label_format = {\"family\": font, \"size\": 28, \"color\": \"#444444\"}\n",
    "\n",
    "time_axis_format = [\n",
    "    dict(dtickrange=[None, 1000], value=\"%H:%M:%S.%L\\n%Y:%j\"),\n",
    "    dict(dtickrange=[1000, 60000], value=\"%H:%M:%S\\n%Y:%j\"),\n",
    "    dict(dtickrange=[60000, 315360000], value=\"%Y:%j\"),\n",
    "    dict(dtickrange=[315360000, \"M1\"], value=\"%e %b\\n%Y:%j\"),\n",
    "    dict(dtickrange=[\"M1\", \"M6\"], value=\"%Y:%j\"),\n",
    "    dict(dtickrange=[\"M6\", None], value=\"%Y\"),\n",
    "]"
   ]
  },
  {
   "cell_type": "markdown",
   "id": "f81ab2ba-0165-48b4-b35d-9266e3c62795",
   "metadata": {},
   "source": [
    "### X Time Array"
   ]
  },
  {
   "cell_type": "code",
   "execution_count": 70,
   "id": "c8d48fc5-9155-4353-b2fb-2350dd0f7ff1",
   "metadata": {},
   "outputs": [],
   "source": [
    "now = datetime.now()\n",
    "end = datetime(2025, 10, 24)\n",
    "\n",
    "times = datetime_range(now, end, timedelta(days=1))"
   ]
  },
  {
   "cell_type": "markdown",
   "id": "631dbfcd-6523-4c60-aecd-e96c84a2b859",
   "metadata": {},
   "source": [
    "### Y Values Array"
   ]
  },
  {
   "cell_type": "code",
   "execution_count": 71,
   "id": "5292b8ad-69a3-48fe-a390-9372e92fa5c5",
   "metadata": {},
   "outputs": [],
   "source": [
    "n = len(times)\n",
    "values = (\n",
    "    np.exp(np.linspace(0, 5, n))\n",
    "    + 10 * np.sin(2 * np.pi * np.linspace(0, 5, n))\n",
    "    + 10 * np.random.normal(scale=0.5, size=n)\n",
    ")"
   ]
  },
  {
   "cell_type": "markdown",
   "id": "d438dfd0-ab92-4cae-8589-dfa72966b177",
   "metadata": {},
   "source": [
    "### Assemble Plot Data"
   ]
  },
  {
   "cell_type": "code",
   "execution_count": 72,
   "id": "1087a980-75cd-4be0-86a1-344ee6c8ae78",
   "metadata": {},
   "outputs": [],
   "source": [
    "plot_data = generate_plot_data(times, values)"
   ]
  },
  {
   "cell_type": "markdown",
   "id": "db77a6f9-3f34-4d7d-8955-ccc723176cbc",
   "metadata": {},
   "source": [
    "### Other Plot Inputs"
   ]
  },
  {
   "cell_type": "code",
   "execution_count": 73,
   "id": "6c042483-1517-4f8f-81bf-4f633619df07",
   "metadata": {},
   "outputs": [],
   "source": [
    "title = \"Example Plot\"\n",
    "y_label = \"Made up data\""
   ]
  },
  {
   "cell_type": "markdown",
   "id": "253e94cd-62bd-4f66-8200-421a9075e7c8",
   "metadata": {},
   "source": [
    "### Plot Definition Dictionary"
   ]
  },
  {
   "cell_type": "code",
   "execution_count": 76,
   "id": "ff7cfaf2-3ee8-4f89-8bbf-2c3e3b9578ff",
   "metadata": {},
   "outputs": [],
   "source": [
    "plot_object = {\n",
    "    \"data\": plot_data,\n",
    "    \"layout\": {\n",
    "        \"hovermode\": \"closest\",\n",
    "        \"autosize\": False,\n",
    "        \"width\": width,\n",
    "        \"height\": height,\n",
    "        \"title\": {\n",
    "            \"text\": title,\n",
    "            \"font\": title_format,\n",
    "            \"y\": 0.92,\n",
    "            \"x\": 0.5,\n",
    "            \"xanchor\": \"center\",\n",
    "            \"yanchor\": \"top\",\n",
    "        },\n",
    "        \"yaxis\": {\n",
    "            \"title\": {\"text\": y_label, \"font\": label_format},\n",
    "            \"tickfont\": axis_format,\n",
    "            #                 'range': [-18, -6],\n",
    "            \"domain\": [0, 1],\n",
    "            \"zeroline\": False,\n",
    "            \"linecolor\": \"#333333\",\n",
    "            \"linewidth\": 1,\n",
    "            \"mirror\": True,\n",
    "        },\n",
    "        \"xaxis\": {\n",
    "            \"domain\": [0, 1],\n",
    "            \"tickfont\": axis_format,\n",
    "            \"tickformatstops\": time_axis_format,\n",
    "            \"zeroline\": False,\n",
    "            \"linecolor\": \"#333333\",\n",
    "            \"linewidth\": 1,\n",
    "            \"mirror\": True,\n",
    "        },\n",
    "        \"shapes\": None,\n",
    "        \"annotations\": None,\n",
    "        \"showlegend\": False,\n",
    "        \"template\": \"plotly_white\",\n",
    "    },\n",
    "}"
   ]
  },
  {
   "cell_type": "code",
   "execution_count": 77,
   "id": "434bd60b-901d-4b59-80ea-40d534d3c904",
   "metadata": {},
   "outputs": [
    {
     "data": {
      "application/vnd.plotly.v1+json": {
       "config": {
        "plotlyServerURL": "https://plot.ly"
       },
       "data": [
        {
         "line": {
          "color": "#444444",
          "shape": "hv",
          "width": 1
         },
         "marker": {
          "color": "#444444",
          "size": 2
         },
         "mode": "lines+markers",
         "name": "made up data",
         "type": "scattergl",
         "x": [
          "2025-05-28T14:29:07.310349",
          "2025-05-29T14:29:07.310349",
          "2025-05-30T14:29:07.310349",
          "2025-05-31T14:29:07.310349",
          "2025-06-01T14:29:07.310349",
          "2025-06-02T14:29:07.310349",
          "2025-06-03T14:29:07.310349",
          "2025-06-04T14:29:07.310349",
          "2025-06-05T14:29:07.310349",
          "2025-06-06T14:29:07.310349",
          "2025-06-07T14:29:07.310349",
          "2025-06-08T14:29:07.310349",
          "2025-06-09T14:29:07.310349",
          "2025-06-10T14:29:07.310349",
          "2025-06-11T14:29:07.310349",
          "2025-06-12T14:29:07.310349",
          "2025-06-13T14:29:07.310349",
          "2025-06-14T14:29:07.310349",
          "2025-06-15T14:29:07.310349",
          "2025-06-16T14:29:07.310349",
          "2025-06-17T14:29:07.310349",
          "2025-06-18T14:29:07.310349",
          "2025-06-19T14:29:07.310349",
          "2025-06-20T14:29:07.310349",
          "2025-06-21T14:29:07.310349",
          "2025-06-22T14:29:07.310349",
          "2025-06-23T14:29:07.310349",
          "2025-06-24T14:29:07.310349",
          "2025-06-25T14:29:07.310349",
          "2025-06-26T14:29:07.310349",
          "2025-06-27T14:29:07.310349",
          "2025-06-28T14:29:07.310349",
          "2025-06-29T14:29:07.310349",
          "2025-06-30T14:29:07.310349",
          "2025-07-01T14:29:07.310349",
          "2025-07-02T14:29:07.310349",
          "2025-07-03T14:29:07.310349",
          "2025-07-04T14:29:07.310349",
          "2025-07-05T14:29:07.310349",
          "2025-07-06T14:29:07.310349",
          "2025-07-07T14:29:07.310349",
          "2025-07-08T14:29:07.310349",
          "2025-07-09T14:29:07.310349",
          "2025-07-10T14:29:07.310349",
          "2025-07-11T14:29:07.310349",
          "2025-07-12T14:29:07.310349",
          "2025-07-13T14:29:07.310349",
          "2025-07-14T14:29:07.310349",
          "2025-07-15T14:29:07.310349",
          "2025-07-16T14:29:07.310349",
          "2025-07-17T14:29:07.310349",
          "2025-07-18T14:29:07.310349",
          "2025-07-19T14:29:07.310349",
          "2025-07-20T14:29:07.310349",
          "2025-07-21T14:29:07.310349",
          "2025-07-22T14:29:07.310349",
          "2025-07-23T14:29:07.310349",
          "2025-07-24T14:29:07.310349",
          "2025-07-25T14:29:07.310349",
          "2025-07-26T14:29:07.310349",
          "2025-07-27T14:29:07.310349",
          "2025-07-28T14:29:07.310349",
          "2025-07-29T14:29:07.310349",
          "2025-07-30T14:29:07.310349",
          "2025-07-31T14:29:07.310349",
          "2025-08-01T14:29:07.310349",
          "2025-08-02T14:29:07.310349",
          "2025-08-03T14:29:07.310349",
          "2025-08-04T14:29:07.310349",
          "2025-08-05T14:29:07.310349",
          "2025-08-06T14:29:07.310349",
          "2025-08-07T14:29:07.310349",
          "2025-08-08T14:29:07.310349",
          "2025-08-09T14:29:07.310349",
          "2025-08-10T14:29:07.310349",
          "2025-08-11T14:29:07.310349",
          "2025-08-12T14:29:07.310349",
          "2025-08-13T14:29:07.310349",
          "2025-08-14T14:29:07.310349",
          "2025-08-15T14:29:07.310349",
          "2025-08-16T14:29:07.310349",
          "2025-08-17T14:29:07.310349",
          "2025-08-18T14:29:07.310349",
          "2025-08-19T14:29:07.310349",
          "2025-08-20T14:29:07.310349",
          "2025-08-21T14:29:07.310349",
          "2025-08-22T14:29:07.310349",
          "2025-08-23T14:29:07.310349",
          "2025-08-24T14:29:07.310349",
          "2025-08-25T14:29:07.310349",
          "2025-08-26T14:29:07.310349",
          "2025-08-27T14:29:07.310349",
          "2025-08-28T14:29:07.310349",
          "2025-08-29T14:29:07.310349",
          "2025-08-30T14:29:07.310349",
          "2025-08-31T14:29:07.310349",
          "2025-09-01T14:29:07.310349",
          "2025-09-02T14:29:07.310349",
          "2025-09-03T14:29:07.310349",
          "2025-09-04T14:29:07.310349",
          "2025-09-05T14:29:07.310349",
          "2025-09-06T14:29:07.310349",
          "2025-09-07T14:29:07.310349",
          "2025-09-08T14:29:07.310349",
          "2025-09-09T14:29:07.310349",
          "2025-09-10T14:29:07.310349",
          "2025-09-11T14:29:07.310349",
          "2025-09-12T14:29:07.310349",
          "2025-09-13T14:29:07.310349",
          "2025-09-14T14:29:07.310349",
          "2025-09-15T14:29:07.310349",
          "2025-09-16T14:29:07.310349",
          "2025-09-17T14:29:07.310349",
          "2025-09-18T14:29:07.310349",
          "2025-09-19T14:29:07.310349",
          "2025-09-20T14:29:07.310349",
          "2025-09-21T14:29:07.310349",
          "2025-09-22T14:29:07.310349",
          "2025-09-23T14:29:07.310349",
          "2025-09-24T14:29:07.310349",
          "2025-09-25T14:29:07.310349",
          "2025-09-26T14:29:07.310349",
          "2025-09-27T14:29:07.310349",
          "2025-09-28T14:29:07.310349",
          "2025-09-29T14:29:07.310349",
          "2025-09-30T14:29:07.310349",
          "2025-10-01T14:29:07.310349",
          "2025-10-02T14:29:07.310349",
          "2025-10-03T14:29:07.310349",
          "2025-10-04T14:29:07.310349",
          "2025-10-05T14:29:07.310349",
          "2025-10-06T14:29:07.310349",
          "2025-10-07T14:29:07.310349",
          "2025-10-08T14:29:07.310349",
          "2025-10-09T14:29:07.310349",
          "2025-10-10T14:29:07.310349",
          "2025-10-11T14:29:07.310349",
          "2025-10-12T14:29:07.310349",
          "2025-10-13T14:29:07.310349",
          "2025-10-14T14:29:07.310349",
          "2025-10-15T14:29:07.310349",
          "2025-10-16T14:29:07.310349",
          "2025-10-17T14:29:07.310349",
          "2025-10-18T14:29:07.310349",
          "2025-10-19T14:29:07.310349",
          "2025-10-20T14:29:07.310349",
          "2025-10-21T14:29:07.310349",
          "2025-10-22T14:29:07.310349"
         ],
         "y": [
          -1.7326828210017102,
          13.356658168868398,
          1.4794989897693642,
          16.431675476100988,
          11.825689839490725,
          9.399627014068493,
          6.109734529696517,
          20.477933238251893,
          0.6633895103735696,
          11.770801913718403,
          3.706074818836697,
          7.361953794351749,
          12.685475528065389,
          1.6517586181832953,
          -2.7250239722359284,
          8.674402864079571,
          -9.385474716287936,
          -11.804441318047235,
          -6.7200912009011,
          -10.28254639100098,
          -12.448820793751922,
          -10.522029662878037,
          -2.740604207700418,
          -6.719272493555398,
          -5.261876873713457,
          -10.644104517047253,
          -3.90905010612121,
          -4.936252346748774,
          1.4046954638245284,
          3.4510652383765423,
          0.8455192623831334,
          10.986702139343743,
          2.3904534030649414,
          17.923649772151386,
          0.40034001195670754,
          12.002655365062957,
          10.622099388237729,
          2.7164977708471234,
          10.114346328895092,
          11.414329113567284,
          1.4112255157858584,
          9.234615372215524,
          -2.592885088325879,
          0.44597177665156984,
          7.6587319518172325,
          6.371399332131196,
          0.5654151323164069,
          0.6239309205956804,
          -1.6675714090740312,
          4.0704801368460775,
          1.5017485864705842,
          -6.006921187008073,
          -7.68253526782491,
          2.818507090296757,
          5.165948142249256,
          2.9141425915099397,
          -8.30023918484126,
          -5.868592044741739,
          1.9285312817106544,
          5.775804065994271,
          11.881931585214259,
          15.540313317898642,
          18.100350676366904,
          18.48460507145825,
          25.86112416669134,
          23.96831292317627,
          19.585946016219975,
          25.205082364947344,
          23.034963521820472,
          18.218202558225066,
          12.409596831190534,
          18.04978102601012,
          18.43153109225789,
          16.004656859637414,
          9.503571848548704,
          8.857292946237292,
          6.074721961502348,
          10.151892541909088,
          7.349033572908023,
          4.237267054089909,
          5.457013641725509,
          -0.05440750956593199,
          10.451425006627264,
          9.725950658291334,
          8.527981011203005,
          17.02284088040229,
          19.433743048822773,
          22.239646600388404,
          19.07517119339183,
          16.216714777900453,
          25.993713186760036,
          23.531023189315064,
          24.694575054536504,
          28.814135886273615,
          33.967558900265146,
          38.99703090045649,
          37.3707379574411,
          33.281187893617656,
          42.958779757587756,
          26.464466526768035,
          41.67777818963324,
          37.081117808488926,
          36.141254178279446,
          33.855358508074715,
          34.3081867185014,
          29.089061142084805,
          34.55581106423561,
          29.899326117788178,
          32.83087122524067,
          28.50429441768923,
          29.758754531764815,
          31.3430338608251,
          37.78993537743088,
          46.95096191701625,
          44.96934058406266,
          46.065631115397444,
          46.013510871321984,
          63.58374444979066,
          59.031152710093494,
          59.91283482490962,
          67.95456216138955,
          69.17057739668164,
          64.67146399188087,
          72.69009105060847,
          75.39917689040536,
          72.56156016269378,
          86.47868396059607,
          76.31317611149143,
          86.80459680186237,
          92.91188575323442,
          90.6899109810294,
          96.14629598670504,
          83.16682425955304,
          93.64436727183572,
          89.41219079153585,
          104.35467722761778,
          97.76731560209134,
          99.52653044689083,
          100.05957760086686,
          106.46649461363582,
          102.46869190309107,
          122.48785088706508,
          120.06791796176894,
          127.48791194614051,
          123.47371886572135,
          138.05311911434612,
          143.61411963083165,
          150.58217299433431
         ]
        }
       ],
       "layout": {
        "autosize": false,
        "height": 600,
        "hovermode": "closest",
        "showlegend": false,
        "template": {
         "data": {
          "bar": [
           {
            "error_x": {
             "color": "#2a3f5f"
            },
            "error_y": {
             "color": "#2a3f5f"
            },
            "marker": {
             "line": {
              "color": "white",
              "width": 0.5
             },
             "pattern": {
              "fillmode": "overlay",
              "size": 10,
              "solidity": 0.2
             }
            },
            "type": "bar"
           }
          ],
          "barpolar": [
           {
            "marker": {
             "line": {
              "color": "white",
              "width": 0.5
             },
             "pattern": {
              "fillmode": "overlay",
              "size": 10,
              "solidity": 0.2
             }
            },
            "type": "barpolar"
           }
          ],
          "carpet": [
           {
            "aaxis": {
             "endlinecolor": "#2a3f5f",
             "gridcolor": "#C8D4E3",
             "linecolor": "#C8D4E3",
             "minorgridcolor": "#C8D4E3",
             "startlinecolor": "#2a3f5f"
            },
            "baxis": {
             "endlinecolor": "#2a3f5f",
             "gridcolor": "#C8D4E3",
             "linecolor": "#C8D4E3",
             "minorgridcolor": "#C8D4E3",
             "startlinecolor": "#2a3f5f"
            },
            "type": "carpet"
           }
          ],
          "choropleth": [
           {
            "colorbar": {
             "outlinewidth": 0,
             "ticks": ""
            },
            "type": "choropleth"
           }
          ],
          "contour": [
           {
            "colorbar": {
             "outlinewidth": 0,
             "ticks": ""
            },
            "colorscale": [
             [
              0,
              "#0d0887"
             ],
             [
              0.1111111111111111,
              "#46039f"
             ],
             [
              0.2222222222222222,
              "#7201a8"
             ],
             [
              0.3333333333333333,
              "#9c179e"
             ],
             [
              0.4444444444444444,
              "#bd3786"
             ],
             [
              0.5555555555555556,
              "#d8576b"
             ],
             [
              0.6666666666666666,
              "#ed7953"
             ],
             [
              0.7777777777777778,
              "#fb9f3a"
             ],
             [
              0.8888888888888888,
              "#fdca26"
             ],
             [
              1,
              "#f0f921"
             ]
            ],
            "type": "contour"
           }
          ],
          "contourcarpet": [
           {
            "colorbar": {
             "outlinewidth": 0,
             "ticks": ""
            },
            "type": "contourcarpet"
           }
          ],
          "heatmap": [
           {
            "colorbar": {
             "outlinewidth": 0,
             "ticks": ""
            },
            "colorscale": [
             [
              0,
              "#0d0887"
             ],
             [
              0.1111111111111111,
              "#46039f"
             ],
             [
              0.2222222222222222,
              "#7201a8"
             ],
             [
              0.3333333333333333,
              "#9c179e"
             ],
             [
              0.4444444444444444,
              "#bd3786"
             ],
             [
              0.5555555555555556,
              "#d8576b"
             ],
             [
              0.6666666666666666,
              "#ed7953"
             ],
             [
              0.7777777777777778,
              "#fb9f3a"
             ],
             [
              0.8888888888888888,
              "#fdca26"
             ],
             [
              1,
              "#f0f921"
             ]
            ],
            "type": "heatmap"
           }
          ],
          "heatmapgl": [
           {
            "colorbar": {
             "outlinewidth": 0,
             "ticks": ""
            },
            "colorscale": [
             [
              0,
              "#0d0887"
             ],
             [
              0.1111111111111111,
              "#46039f"
             ],
             [
              0.2222222222222222,
              "#7201a8"
             ],
             [
              0.3333333333333333,
              "#9c179e"
             ],
             [
              0.4444444444444444,
              "#bd3786"
             ],
             [
              0.5555555555555556,
              "#d8576b"
             ],
             [
              0.6666666666666666,
              "#ed7953"
             ],
             [
              0.7777777777777778,
              "#fb9f3a"
             ],
             [
              0.8888888888888888,
              "#fdca26"
             ],
             [
              1,
              "#f0f921"
             ]
            ],
            "type": "heatmapgl"
           }
          ],
          "histogram": [
           {
            "marker": {
             "pattern": {
              "fillmode": "overlay",
              "size": 10,
              "solidity": 0.2
             }
            },
            "type": "histogram"
           }
          ],
          "histogram2d": [
           {
            "colorbar": {
             "outlinewidth": 0,
             "ticks": ""
            },
            "colorscale": [
             [
              0,
              "#0d0887"
             ],
             [
              0.1111111111111111,
              "#46039f"
             ],
             [
              0.2222222222222222,
              "#7201a8"
             ],
             [
              0.3333333333333333,
              "#9c179e"
             ],
             [
              0.4444444444444444,
              "#bd3786"
             ],
             [
              0.5555555555555556,
              "#d8576b"
             ],
             [
              0.6666666666666666,
              "#ed7953"
             ],
             [
              0.7777777777777778,
              "#fb9f3a"
             ],
             [
              0.8888888888888888,
              "#fdca26"
             ],
             [
              1,
              "#f0f921"
             ]
            ],
            "type": "histogram2d"
           }
          ],
          "histogram2dcontour": [
           {
            "colorbar": {
             "outlinewidth": 0,
             "ticks": ""
            },
            "colorscale": [
             [
              0,
              "#0d0887"
             ],
             [
              0.1111111111111111,
              "#46039f"
             ],
             [
              0.2222222222222222,
              "#7201a8"
             ],
             [
              0.3333333333333333,
              "#9c179e"
             ],
             [
              0.4444444444444444,
              "#bd3786"
             ],
             [
              0.5555555555555556,
              "#d8576b"
             ],
             [
              0.6666666666666666,
              "#ed7953"
             ],
             [
              0.7777777777777778,
              "#fb9f3a"
             ],
             [
              0.8888888888888888,
              "#fdca26"
             ],
             [
              1,
              "#f0f921"
             ]
            ],
            "type": "histogram2dcontour"
           }
          ],
          "mesh3d": [
           {
            "colorbar": {
             "outlinewidth": 0,
             "ticks": ""
            },
            "type": "mesh3d"
           }
          ],
          "parcoords": [
           {
            "line": {
             "colorbar": {
              "outlinewidth": 0,
              "ticks": ""
             }
            },
            "type": "parcoords"
           }
          ],
          "pie": [
           {
            "automargin": true,
            "type": "pie"
           }
          ],
          "scatter": [
           {
            "fillpattern": {
             "fillmode": "overlay",
             "size": 10,
             "solidity": 0.2
            },
            "type": "scatter"
           }
          ],
          "scatter3d": [
           {
            "line": {
             "colorbar": {
              "outlinewidth": 0,
              "ticks": ""
             }
            },
            "marker": {
             "colorbar": {
              "outlinewidth": 0,
              "ticks": ""
             }
            },
            "type": "scatter3d"
           }
          ],
          "scattercarpet": [
           {
            "marker": {
             "colorbar": {
              "outlinewidth": 0,
              "ticks": ""
             }
            },
            "type": "scattercarpet"
           }
          ],
          "scattergeo": [
           {
            "marker": {
             "colorbar": {
              "outlinewidth": 0,
              "ticks": ""
             }
            },
            "type": "scattergeo"
           }
          ],
          "scattergl": [
           {
            "marker": {
             "colorbar": {
              "outlinewidth": 0,
              "ticks": ""
             }
            },
            "type": "scattergl"
           }
          ],
          "scattermapbox": [
           {
            "marker": {
             "colorbar": {
              "outlinewidth": 0,
              "ticks": ""
             }
            },
            "type": "scattermapbox"
           }
          ],
          "scatterpolar": [
           {
            "marker": {
             "colorbar": {
              "outlinewidth": 0,
              "ticks": ""
             }
            },
            "type": "scatterpolar"
           }
          ],
          "scatterpolargl": [
           {
            "marker": {
             "colorbar": {
              "outlinewidth": 0,
              "ticks": ""
             }
            },
            "type": "scatterpolargl"
           }
          ],
          "scatterternary": [
           {
            "marker": {
             "colorbar": {
              "outlinewidth": 0,
              "ticks": ""
             }
            },
            "type": "scatterternary"
           }
          ],
          "surface": [
           {
            "colorbar": {
             "outlinewidth": 0,
             "ticks": ""
            },
            "colorscale": [
             [
              0,
              "#0d0887"
             ],
             [
              0.1111111111111111,
              "#46039f"
             ],
             [
              0.2222222222222222,
              "#7201a8"
             ],
             [
              0.3333333333333333,
              "#9c179e"
             ],
             [
              0.4444444444444444,
              "#bd3786"
             ],
             [
              0.5555555555555556,
              "#d8576b"
             ],
             [
              0.6666666666666666,
              "#ed7953"
             ],
             [
              0.7777777777777778,
              "#fb9f3a"
             ],
             [
              0.8888888888888888,
              "#fdca26"
             ],
             [
              1,
              "#f0f921"
             ]
            ],
            "type": "surface"
           }
          ],
          "table": [
           {
            "cells": {
             "fill": {
              "color": "#EBF0F8"
             },
             "line": {
              "color": "white"
             }
            },
            "header": {
             "fill": {
              "color": "#C8D4E3"
             },
             "line": {
              "color": "white"
             }
            },
            "type": "table"
           }
          ]
         },
         "layout": {
          "annotationdefaults": {
           "arrowcolor": "#2a3f5f",
           "arrowhead": 0,
           "arrowwidth": 1
          },
          "autotypenumbers": "strict",
          "coloraxis": {
           "colorbar": {
            "outlinewidth": 0,
            "ticks": ""
           }
          },
          "colorscale": {
           "diverging": [
            [
             0,
             "#8e0152"
            ],
            [
             0.1,
             "#c51b7d"
            ],
            [
             0.2,
             "#de77ae"
            ],
            [
             0.3,
             "#f1b6da"
            ],
            [
             0.4,
             "#fde0ef"
            ],
            [
             0.5,
             "#f7f7f7"
            ],
            [
             0.6,
             "#e6f5d0"
            ],
            [
             0.7,
             "#b8e186"
            ],
            [
             0.8,
             "#7fbc41"
            ],
            [
             0.9,
             "#4d9221"
            ],
            [
             1,
             "#276419"
            ]
           ],
           "sequential": [
            [
             0,
             "#0d0887"
            ],
            [
             0.1111111111111111,
             "#46039f"
            ],
            [
             0.2222222222222222,
             "#7201a8"
            ],
            [
             0.3333333333333333,
             "#9c179e"
            ],
            [
             0.4444444444444444,
             "#bd3786"
            ],
            [
             0.5555555555555556,
             "#d8576b"
            ],
            [
             0.6666666666666666,
             "#ed7953"
            ],
            [
             0.7777777777777778,
             "#fb9f3a"
            ],
            [
             0.8888888888888888,
             "#fdca26"
            ],
            [
             1,
             "#f0f921"
            ]
           ],
           "sequentialminus": [
            [
             0,
             "#0d0887"
            ],
            [
             0.1111111111111111,
             "#46039f"
            ],
            [
             0.2222222222222222,
             "#7201a8"
            ],
            [
             0.3333333333333333,
             "#9c179e"
            ],
            [
             0.4444444444444444,
             "#bd3786"
            ],
            [
             0.5555555555555556,
             "#d8576b"
            ],
            [
             0.6666666666666666,
             "#ed7953"
            ],
            [
             0.7777777777777778,
             "#fb9f3a"
            ],
            [
             0.8888888888888888,
             "#fdca26"
            ],
            [
             1,
             "#f0f921"
            ]
           ]
          },
          "colorway": [
           "#636efa",
           "#EF553B",
           "#00cc96",
           "#ab63fa",
           "#FFA15A",
           "#19d3f3",
           "#FF6692",
           "#B6E880",
           "#FF97FF",
           "#FECB52"
          ],
          "font": {
           "color": "#2a3f5f"
          },
          "geo": {
           "bgcolor": "white",
           "lakecolor": "white",
           "landcolor": "white",
           "showlakes": true,
           "showland": true,
           "subunitcolor": "#C8D4E3"
          },
          "hoverlabel": {
           "align": "left"
          },
          "hovermode": "closest",
          "mapbox": {
           "style": "light"
          },
          "paper_bgcolor": "white",
          "plot_bgcolor": "white",
          "polar": {
           "angularaxis": {
            "gridcolor": "#EBF0F8",
            "linecolor": "#EBF0F8",
            "ticks": ""
           },
           "bgcolor": "white",
           "radialaxis": {
            "gridcolor": "#EBF0F8",
            "linecolor": "#EBF0F8",
            "ticks": ""
           }
          },
          "scene": {
           "xaxis": {
            "backgroundcolor": "white",
            "gridcolor": "#DFE8F3",
            "gridwidth": 2,
            "linecolor": "#EBF0F8",
            "showbackground": true,
            "ticks": "",
            "zerolinecolor": "#EBF0F8"
           },
           "yaxis": {
            "backgroundcolor": "white",
            "gridcolor": "#DFE8F3",
            "gridwidth": 2,
            "linecolor": "#EBF0F8",
            "showbackground": true,
            "ticks": "",
            "zerolinecolor": "#EBF0F8"
           },
           "zaxis": {
            "backgroundcolor": "white",
            "gridcolor": "#DFE8F3",
            "gridwidth": 2,
            "linecolor": "#EBF0F8",
            "showbackground": true,
            "ticks": "",
            "zerolinecolor": "#EBF0F8"
           }
          },
          "shapedefaults": {
           "line": {
            "color": "#2a3f5f"
           }
          },
          "ternary": {
           "aaxis": {
            "gridcolor": "#DFE8F3",
            "linecolor": "#A2B1C6",
            "ticks": ""
           },
           "baxis": {
            "gridcolor": "#DFE8F3",
            "linecolor": "#A2B1C6",
            "ticks": ""
           },
           "bgcolor": "white",
           "caxis": {
            "gridcolor": "#DFE8F3",
            "linecolor": "#A2B1C6",
            "ticks": ""
           }
          },
          "title": {
           "x": 0.05
          },
          "xaxis": {
           "automargin": true,
           "gridcolor": "#EBF0F8",
           "linecolor": "#EBF0F8",
           "ticks": "",
           "title": {
            "standoff": 15
           },
           "zerolinecolor": "#EBF0F8",
           "zerolinewidth": 2
          },
          "yaxis": {
           "automargin": true,
           "gridcolor": "#EBF0F8",
           "linecolor": "#EBF0F8",
           "ticks": "",
           "title": {
            "standoff": 15
           },
           "zerolinecolor": "#EBF0F8",
           "zerolinewidth": 2
          }
         }
        },
        "title": {
         "font": {
          "color": "#444444",
          "family": "Arial",
          "size": 36
         },
         "text": "Example Plot",
         "x": 0.5,
         "xanchor": "center",
         "y": 0.92,
         "yanchor": "top"
        },
        "width": 1200,
        "xaxis": {
         "domain": [
          0,
          1
         ],
         "linecolor": "#333333",
         "linewidth": 1,
         "mirror": true,
         "tickfont": {
          "color": "#444444",
          "family": "Arial",
          "size": 24
         },
         "tickformatstops": [
          {
           "dtickrange": [
            null,
            1000
           ],
           "value": "%H:%M:%S.%L\n%Y:%j"
          },
          {
           "dtickrange": [
            1000,
            60000
           ],
           "value": "%H:%M:%S\n%Y:%j"
          },
          {
           "dtickrange": [
            60000,
            315360000
           ],
           "value": "%Y:%j"
          },
          {
           "dtickrange": [
            315360000,
            "M1"
           ],
           "value": "%e %b\n%Y:%j"
          },
          {
           "dtickrange": [
            "M1",
            "M6"
           ],
           "value": "%Y:%j"
          },
          {
           "dtickrange": [
            "M6",
            null
           ],
           "value": "%Y"
          }
         ],
         "zeroline": false
        },
        "yaxis": {
         "domain": [
          0,
          1
         ],
         "linecolor": "#333333",
         "linewidth": 1,
         "mirror": true,
         "tickfont": {
          "color": "#444444",
          "family": "Arial",
          "size": 24
         },
         "title": {
          "font": {
           "color": "#444444",
           "family": "Arial",
           "size": 28
          },
          "text": "Made up data"
         },
         "zeroline": false
        }
       }
      },
      "image/png": "[encoded data removed]",
      "text/html": [
       "<div>                            <div id=\"0873c05b-3e49-40ba-a58b-2ee8d41dab1c\" class=\"plotly-graph-div\" style=\"height:600px; width:1200px;\"></div>            <script type=\"text/javascript\">                require([\"plotly\"], function(Plotly) {                    window.PLOTLYENV=window.PLOTLYENV || {};                                    if (document.getElementById(\"0873c05b-3e49-40ba-a58b-2ee8d41dab1c\")) {                    Plotly.newPlot(                        \"0873c05b-3e49-40ba-a58b-2ee8d41dab1c\",                        [{\"line\":{\"color\":\"#444444\",\"shape\":\"hv\",\"width\":1},\"marker\":{\"color\":\"#444444\",\"size\":2},\"mode\":\"lines+markers\",\"name\":\"made up data\",\"x\":[\"2025-05-28T14:29:07.310349\",\"2025-05-29T14:29:07.310349\",\"2025-05-30T14:29:07.310349\",\"2025-05-31T14:29:07.310349\",\"2025-06-01T14:29:07.310349\",\"2025-06-02T14:29:07.310349\",\"2025-06-03T14:29:07.310349\",\"2025-06-04T14:29:07.310349\",\"2025-06-05T14:29:07.310349\",\"2025-06-06T14:29:07.310349\",\"2025-06-07T14:29:07.310349\",\"2025-06-08T14:29:07.310349\",\"2025-06-09T14:29:07.310349\",\"2025-06-10T14:29:07.310349\",\"2025-06-11T14:29:07.310349\",\"2025-06-12T14:29:07.310349\",\"2025-06-13T14:29:07.310349\",\"2025-06-14T14:29:07.310349\",\"2025-06-15T14:29:07.310349\",\"2025-06-16T14:29:07.310349\",\"2025-06-17T14:29:07.310349\",\"2025-06-18T14:29:07.310349\",\"2025-06-19T14:29:07.310349\",\"2025-06-20T14:29:07.310349\",\"2025-06-21T14:29:07.310349\",\"2025-06-22T14:29:07.310349\",\"2025-06-23T14:29:07.310349\",\"2025-06-24T14:29:07.310349\",\"2025-06-25T14:29:07.310349\",\"2025-06-26T14:29:07.310349\",\"2025-06-27T14:29:07.310349\",\"2025-06-28T14:29:07.310349\",\"2025-06-29T14:29:07.310349\",\"2025-06-30T14:29:07.310349\",\"2025-07-01T14:29:07.310349\",\"2025-07-02T14:29:07.310349\",\"2025-07-03T14:29:07.310349\",\"2025-07-04T14:29:07.310349\",\"2025-07-05T14:29:07.310349\",\"2025-07-06T14:29:07.310349\",\"2025-07-07T14:29:07.310349\",\"2025-07-08T14:29:07.310349\",\"2025-07-09T14:29:07.310349\",\"2025-07-10T14:29:07.310349\",\"2025-07-11T14:29:07.310349\",\"2025-07-12T14:29:07.310349\",\"2025-07-13T14:29:07.310349\",\"2025-07-14T14:29:07.310349\",\"2025-07-15T14:29:07.310349\",\"2025-07-16T14:29:07.310349\",\"2025-07-17T14:29:07.310349\",\"2025-07-18T14:29:07.310349\",\"2025-07-19T14:29:07.310349\",\"2025-07-20T14:29:07.310349\",\"2025-07-21T14:29:07.310349\",\"2025-07-22T14:29:07.310349\",\"2025-07-23T14:29:07.310349\",\"2025-07-24T14:29:07.310349\",\"2025-07-25T14:29:07.310349\",\"2025-07-26T14:29:07.310349\",\"2025-07-27T14:29:07.310349\",\"2025-07-28T14:29:07.310349\",\"2025-07-29T14:29:07.310349\",\"2025-07-30T14:29:07.310349\",\"2025-07-31T14:29:07.310349\",\"2025-08-01T14:29:07.310349\",\"2025-08-02T14:29:07.310349\",\"2025-08-03T14:29:07.310349\",\"2025-08-04T14:29:07.310349\",\"2025-08-05T14:29:07.310349\",\"2025-08-06T14:29:07.310349\",\"2025-08-07T14:29:07.310349\",\"2025-08-08T14:29:07.310349\",\"2025-08-09T14:29:07.310349\",\"2025-08-10T14:29:07.310349\",\"2025-08-11T14:29:07.310349\",\"2025-08-12T14:29:07.310349\",\"2025-08-13T14:29:07.310349\",\"2025-08-14T14:29:07.310349\",\"2025-08-15T14:29:07.310349\",\"2025-08-16T14:29:07.310349\",\"2025-08-17T14:29:07.310349\",\"2025-08-18T14:29:07.310349\",\"2025-08-19T14:29:07.310349\",\"2025-08-20T14:29:07.310349\",\"2025-08-21T14:29:07.310349\",\"2025-08-22T14:29:07.310349\",\"2025-08-23T14:29:07.310349\",\"2025-08-24T14:29:07.310349\",\"2025-08-25T14:29:07.310349\",\"2025-08-26T14:29:07.310349\",\"2025-08-27T14:29:07.310349\",\"2025-08-28T14:29:07.310349\",\"2025-08-29T14:29:07.310349\",\"2025-08-30T14:29:07.310349\",\"2025-08-31T14:29:07.310349\",\"2025-09-01T14:29:07.310349\",\"2025-09-02T14:29:07.310349\",\"2025-09-03T14:29:07.310349\",\"2025-09-04T14:29:07.310349\",\"2025-09-05T14:29:07.310349\",\"2025-09-06T14:29:07.310349\",\"2025-09-07T14:29:07.310349\",\"2025-09-08T14:29:07.310349\",\"2025-09-09T14:29:07.310349\",\"2025-09-10T14:29:07.310349\",\"2025-09-11T14:29:07.310349\",\"2025-09-12T14:29:07.310349\",\"2025-09-13T14:29:07.310349\",\"2025-09-14T14:29:07.310349\",\"2025-09-15T14:29:07.310349\",\"2025-09-16T14:29:07.310349\",\"2025-09-17T14:29:07.310349\",\"2025-09-18T14:29:07.310349\",\"2025-09-19T14:29:07.310349\",\"2025-09-20T14:29:07.310349\",\"2025-09-21T14:29:07.310349\",\"2025-09-22T14:29:07.310349\",\"2025-09-23T14:29:07.310349\",\"2025-09-24T14:29:07.310349\",\"2025-09-25T14:29:07.310349\",\"2025-09-26T14:29:07.310349\",\"2025-09-27T14:29:07.310349\",\"2025-09-28T14:29:07.310349\",\"2025-09-29T14:29:07.310349\",\"2025-09-30T14:29:07.310349\",\"2025-10-01T14:29:07.310349\",\"2025-10-02T14:29:07.310349\",\"2025-10-03T14:29:07.310349\",\"2025-10-04T14:29:07.310349\",\"2025-10-05T14:29:07.310349\",\"2025-10-06T14:29:07.310349\",\"2025-10-07T14:29:07.310349\",\"2025-10-08T14:29:07.310349\",\"2025-10-09T14:29:07.310349\",\"2025-10-10T14:29:07.310349\",\"2025-10-11T14:29:07.310349\",\"2025-10-12T14:29:07.310349\",\"2025-10-13T14:29:07.310349\",\"2025-10-14T14:29:07.310349\",\"2025-10-15T14:29:07.310349\",\"2025-10-16T14:29:07.310349\",\"2025-10-17T14:29:07.310349\",\"2025-10-18T14:29:07.310349\",\"2025-10-19T14:29:07.310349\",\"2025-10-20T14:29:07.310349\",\"2025-10-21T14:29:07.310349\",\"2025-10-22T14:29:07.310349\"],\"y\":[-1.7326828210017102,13.356658168868398,1.4794989897693642,16.431675476100988,11.825689839490725,9.399627014068493,6.109734529696517,20.477933238251893,0.6633895103735696,11.770801913718403,3.706074818836697,7.361953794351749,12.685475528065389,1.6517586181832953,-2.7250239722359284,8.674402864079571,-9.385474716287936,-11.804441318047235,-6.7200912009011,-10.28254639100098,-12.448820793751922,-10.522029662878037,-2.740604207700418,-6.719272493555398,-5.261876873713457,-10.644104517047253,-3.90905010612121,-4.936252346748774,1.4046954638245284,3.4510652383765423,0.8455192623831334,10.986702139343743,2.3904534030649414,17.923649772151386,0.40034001195670754,12.002655365062957,10.622099388237729,2.7164977708471234,10.114346328895092,11.414329113567284,1.4112255157858584,9.234615372215524,-2.592885088325879,0.44597177665156984,7.6587319518172325,6.371399332131196,0.5654151323164069,0.6239309205956804,-1.6675714090740312,4.0704801368460775,1.5017485864705842,-6.006921187008073,-7.68253526782491,2.818507090296757,5.165948142249256,2.9141425915099397,-8.30023918484126,-5.868592044741739,1.9285312817106544,5.775804065994271,11.881931585214259,15.540313317898642,18.100350676366904,18.48460507145825,25.86112416669134,23.96831292317627,19.585946016219975,25.205082364947344,23.034963521820472,18.218202558225066,12.409596831190534,18.04978102601012,18.43153109225789,16.004656859637414,9.503571848548704,8.857292946237292,6.074721961502348,10.151892541909088,7.349033572908023,4.237267054089909,5.457013641725509,-0.05440750956593199,10.451425006627264,9.725950658291334,8.527981011203005,17.02284088040229,19.433743048822773,22.239646600388404,19.07517119339183,16.216714777900453,25.993713186760036,23.531023189315064,24.694575054536504,28.814135886273615,33.967558900265146,38.99703090045649,37.3707379574411,33.281187893617656,42.958779757587756,26.464466526768035,41.67777818963324,37.081117808488926,36.141254178279446,33.855358508074715,34.3081867185014,29.089061142084805,34.55581106423561,29.899326117788178,32.83087122524067,28.50429441768923,29.758754531764815,31.3430338608251,37.78993537743088,46.95096191701625,44.96934058406266,46.065631115397444,46.013510871321984,63.58374444979066,59.031152710093494,59.91283482490962,67.95456216138955,69.17057739668164,64.67146399188087,72.69009105060847,75.39917689040536,72.56156016269378,86.47868396059607,76.31317611149143,86.80459680186237,92.91188575323442,90.6899109810294,96.14629598670504,83.16682425955304,93.64436727183572,89.41219079153585,104.35467722761778,97.76731560209134,99.52653044689083,100.05957760086686,106.46649461363582,102.46869190309107,122.48785088706508,120.06791796176894,127.48791194614051,123.47371886572135,138.05311911434612,143.61411963083165,150.58217299433431],\"type\":\"scattergl\"}],                        {\"autosize\":false,\"height\":600,\"hovermode\":\"closest\",\"showlegend\":false,\"template\":{\"data\":{\"barpolar\":[{\"marker\":{\"line\":{\"color\":\"white\",\"width\":0.5},\"pattern\":{\"fillmode\":\"overlay\",\"size\":10,\"solidity\":0.2}},\"type\":\"barpolar\"}],\"bar\":[{\"error_x\":{\"color\":\"#2a3f5f\"},\"error_y\":{\"color\":\"#2a3f5f\"},\"marker\":{\"line\":{\"color\":\"white\",\"width\":0.5},\"pattern\":{\"fillmode\":\"overlay\",\"size\":10,\"solidity\":0.2}},\"type\":\"bar\"}],\"carpet\":[{\"aaxis\":{\"endlinecolor\":\"#2a3f5f\",\"gridcolor\":\"#C8D4E3\",\"linecolor\":\"#C8D4E3\",\"minorgridcolor\":\"#C8D4E3\",\"startlinecolor\":\"#2a3f5f\"},\"baxis\":{\"endlinecolor\":\"#2a3f5f\",\"gridcolor\":\"#C8D4E3\",\"linecolor\":\"#C8D4E3\",\"minorgridcolor\":\"#C8D4E3\",\"startlinecolor\":\"#2a3f5f\"},\"type\":\"carpet\"}],\"choropleth\":[{\"colorbar\":{\"outlinewidth\":0,\"ticks\":\"\"},\"type\":\"choropleth\"}],\"contourcarpet\":[{\"colorbar\":{\"outlinewidth\":0,\"ticks\":\"\"},\"type\":\"contourcarpet\"}],\"contour\":[{\"colorbar\":{\"outlinewidth\":0,\"ticks\":\"\"},\"colorscale\":[[0.0,\"#0d0887\"],[0.1111111111111111,\"#46039f\"],[0.2222222222222222,\"#7201a8\"],[0.3333333333333333,\"#9c179e\"],[0.4444444444444444,\"#bd3786\"],[0.5555555555555556,\"#d8576b\"],[0.6666666666666666,\"#ed7953\"],[0.7777777777777778,\"#fb9f3a\"],[0.8888888888888888,\"#fdca26\"],[1.0,\"#f0f921\"]],\"type\":\"contour\"}],\"heatmapgl\":[{\"colorbar\":{\"outlinewidth\":0,\"ticks\":\"\"},\"colorscale\":[[0.0,\"#0d0887\"],[0.1111111111111111,\"#46039f\"],[0.2222222222222222,\"#7201a8\"],[0.3333333333333333,\"#9c179e\"],[0.4444444444444444,\"#bd3786\"],[0.5555555555555556,\"#d8576b\"],[0.6666666666666666,\"#ed7953\"],[0.7777777777777778,\"#fb9f3a\"],[0.8888888888888888,\"#fdca26\"],[1.0,\"#f0f921\"]],\"type\":\"heatmapgl\"}],\"heatmap\":[{\"colorbar\":{\"outlinewidth\":0,\"ticks\":\"\"},\"colorscale\":[[0.0,\"#0d0887\"],[0.1111111111111111,\"#46039f\"],[0.2222222222222222,\"#7201a8\"],[0.3333333333333333,\"#9c179e\"],[0.4444444444444444,\"#bd3786\"],[0.5555555555555556,\"#d8576b\"],[0.6666666666666666,\"#ed7953\"],[0.7777777777777778,\"#fb9f3a\"],[0.8888888888888888,\"#fdca26\"],[1.0,\"#f0f921\"]],\"type\":\"heatmap\"}],\"histogram2dcontour\":[{\"colorbar\":{\"outlinewidth\":0,\"ticks\":\"\"},\"colorscale\":[[0.0,\"#0d0887\"],[0.1111111111111111,\"#46039f\"],[0.2222222222222222,\"#7201a8\"],[0.3333333333333333,\"#9c179e\"],[0.4444444444444444,\"#bd3786\"],[0.5555555555555556,\"#d8576b\"],[0.6666666666666666,\"#ed7953\"],[0.7777777777777778,\"#fb9f3a\"],[0.8888888888888888,\"#fdca26\"],[1.0,\"#f0f921\"]],\"type\":\"histogram2dcontour\"}],\"histogram2d\":[{\"colorbar\":{\"outlinewidth\":0,\"ticks\":\"\"},\"colorscale\":[[0.0,\"#0d0887\"],[0.1111111111111111,\"#46039f\"],[0.2222222222222222,\"#7201a8\"],[0.3333333333333333,\"#9c179e\"],[0.4444444444444444,\"#bd3786\"],[0.5555555555555556,\"#d8576b\"],[0.6666666666666666,\"#ed7953\"],[0.7777777777777778,\"#fb9f3a\"],[0.8888888888888888,\"#fdca26\"],[1.0,\"#f0f921\"]],\"type\":\"histogram2d\"}],\"histogram\":[{\"marker\":{\"pattern\":{\"fillmode\":\"overlay\",\"size\":10,\"solidity\":0.2}},\"type\":\"histogram\"}],\"mesh3d\":[{\"colorbar\":{\"outlinewidth\":0,\"ticks\":\"\"},\"type\":\"mesh3d\"}],\"parcoords\":[{\"line\":{\"colorbar\":{\"outlinewidth\":0,\"ticks\":\"\"}},\"type\":\"parcoords\"}],\"pie\":[{\"automargin\":true,\"type\":\"pie\"}],\"scatter3d\":[{\"line\":{\"colorbar\":{\"outlinewidth\":0,\"ticks\":\"\"}},\"marker\":{\"colorbar\":{\"outlinewidth\":0,\"ticks\":\"\"}},\"type\":\"scatter3d\"}],\"scattercarpet\":[{\"marker\":{\"colorbar\":{\"outlinewidth\":0,\"ticks\":\"\"}},\"type\":\"scattercarpet\"}],\"scattergeo\":[{\"marker\":{\"colorbar\":{\"outlinewidth\":0,\"ticks\":\"\"}},\"type\":\"scattergeo\"}],\"scattergl\":[{\"marker\":{\"colorbar\":{\"outlinewidth\":0,\"ticks\":\"\"}},\"type\":\"scattergl\"}],\"scattermapbox\":[{\"marker\":{\"colorbar\":{\"outlinewidth\":0,\"ticks\":\"\"}},\"type\":\"scattermapbox\"}],\"scatterpolargl\":[{\"marker\":{\"colorbar\":{\"outlinewidth\":0,\"ticks\":\"\"}},\"type\":\"scatterpolargl\"}],\"scatterpolar\":[{\"marker\":{\"colorbar\":{\"outlinewidth\":0,\"ticks\":\"\"}},\"type\":\"scatterpolar\"}],\"scatter\":[{\"fillpattern\":{\"fillmode\":\"overlay\",\"size\":10,\"solidity\":0.2},\"type\":\"scatter\"}],\"scatterternary\":[{\"marker\":{\"colorbar\":{\"outlinewidth\":0,\"ticks\":\"\"}},\"type\":\"scatterternary\"}],\"surface\":[{\"colorbar\":{\"outlinewidth\":0,\"ticks\":\"\"},\"colorscale\":[[0.0,\"#0d0887\"],[0.1111111111111111,\"#46039f\"],[0.2222222222222222,\"#7201a8\"],[0.3333333333333333,\"#9c179e\"],[0.4444444444444444,\"#bd3786\"],[0.5555555555555556,\"#d8576b\"],[0.6666666666666666,\"#ed7953\"],[0.7777777777777778,\"#fb9f3a\"],[0.8888888888888888,\"#fdca26\"],[1.0,\"#f0f921\"]],\"type\":\"surface\"}],\"table\":[{\"cells\":{\"fill\":{\"color\":\"#EBF0F8\"},\"line\":{\"color\":\"white\"}},\"header\":{\"fill\":{\"color\":\"#C8D4E3\"},\"line\":{\"color\":\"white\"}},\"type\":\"table\"}]},\"layout\":{\"annotationdefaults\":{\"arrowcolor\":\"#2a3f5f\",\"arrowhead\":0,\"arrowwidth\":1},\"autotypenumbers\":\"strict\",\"coloraxis\":{\"colorbar\":{\"outlinewidth\":0,\"ticks\":\"\"}},\"colorscale\":{\"diverging\":[[0,\"#8e0152\"],[0.1,\"#c51b7d\"],[0.2,\"#de77ae\"],[0.3,\"#f1b6da\"],[0.4,\"#fde0ef\"],[0.5,\"#f7f7f7\"],[0.6,\"#e6f5d0\"],[0.7,\"#b8e186\"],[0.8,\"#7fbc41\"],[0.9,\"#4d9221\"],[1,\"#276419\"]],\"sequential\":[[0.0,\"#0d0887\"],[0.1111111111111111,\"#46039f\"],[0.2222222222222222,\"#7201a8\"],[0.3333333333333333,\"#9c179e\"],[0.4444444444444444,\"#bd3786\"],[0.5555555555555556,\"#d8576b\"],[0.6666666666666666,\"#ed7953\"],[0.7777777777777778,\"#fb9f3a\"],[0.8888888888888888,\"#fdca26\"],[1.0,\"#f0f921\"]],\"sequentialminus\":[[0.0,\"#0d0887\"],[0.1111111111111111,\"#46039f\"],[0.2222222222222222,\"#7201a8\"],[0.3333333333333333,\"#9c179e\"],[0.4444444444444444,\"#bd3786\"],[0.5555555555555556,\"#d8576b\"],[0.6666666666666666,\"#ed7953\"],[0.7777777777777778,\"#fb9f3a\"],[0.8888888888888888,\"#fdca26\"],[1.0,\"#f0f921\"]]},\"colorway\":[\"#636efa\",\"#EF553B\",\"#00cc96\",\"#ab63fa\",\"#FFA15A\",\"#19d3f3\",\"#FF6692\",\"#B6E880\",\"#FF97FF\",\"#FECB52\"],\"font\":{\"color\":\"#2a3f5f\"},\"geo\":{\"bgcolor\":\"white\",\"lakecolor\":\"white\",\"landcolor\":\"white\",\"showlakes\":true,\"showland\":true,\"subunitcolor\":\"#C8D4E3\"},\"hoverlabel\":{\"align\":\"left\"},\"hovermode\":\"closest\",\"mapbox\":{\"style\":\"light\"},\"paper_bgcolor\":\"white\",\"plot_bgcolor\":\"white\",\"polar\":{\"angularaxis\":{\"gridcolor\":\"#EBF0F8\",\"linecolor\":\"#EBF0F8\",\"ticks\":\"\"},\"bgcolor\":\"white\",\"radialaxis\":{\"gridcolor\":\"#EBF0F8\",\"linecolor\":\"#EBF0F8\",\"ticks\":\"\"}},\"scene\":{\"xaxis\":{\"backgroundcolor\":\"white\",\"gridcolor\":\"#DFE8F3\",\"gridwidth\":2,\"linecolor\":\"#EBF0F8\",\"showbackground\":true,\"ticks\":\"\",\"zerolinecolor\":\"#EBF0F8\"},\"yaxis\":{\"backgroundcolor\":\"white\",\"gridcolor\":\"#DFE8F3\",\"gridwidth\":2,\"linecolor\":\"#EBF0F8\",\"showbackground\":true,\"ticks\":\"\",\"zerolinecolor\":\"#EBF0F8\"},\"zaxis\":{\"backgroundcolor\":\"white\",\"gridcolor\":\"#DFE8F3\",\"gridwidth\":2,\"linecolor\":\"#EBF0F8\",\"showbackground\":true,\"ticks\":\"\",\"zerolinecolor\":\"#EBF0F8\"}},\"shapedefaults\":{\"line\":{\"color\":\"#2a3f5f\"}},\"ternary\":{\"aaxis\":{\"gridcolor\":\"#DFE8F3\",\"linecolor\":\"#A2B1C6\",\"ticks\":\"\"},\"baxis\":{\"gridcolor\":\"#DFE8F3\",\"linecolor\":\"#A2B1C6\",\"ticks\":\"\"},\"bgcolor\":\"white\",\"caxis\":{\"gridcolor\":\"#DFE8F3\",\"linecolor\":\"#A2B1C6\",\"ticks\":\"\"}},\"title\":{\"x\":0.05},\"xaxis\":{\"automargin\":true,\"gridcolor\":\"#EBF0F8\",\"linecolor\":\"#EBF0F8\",\"ticks\":\"\",\"title\":{\"standoff\":15},\"zerolinecolor\":\"#EBF0F8\",\"zerolinewidth\":2},\"yaxis\":{\"automargin\":true,\"gridcolor\":\"#EBF0F8\",\"linecolor\":\"#EBF0F8\",\"ticks\":\"\",\"title\":{\"standoff\":15},\"zerolinecolor\":\"#EBF0F8\",\"zerolinewidth\":2}}},\"title\":{\"font\":{\"color\":\"#444444\",\"family\":\"Arial\",\"size\":36},\"text\":\"Example Plot\",\"x\":0.5,\"xanchor\":\"center\",\"y\":0.92,\"yanchor\":\"top\"},\"width\":1200,\"xaxis\":{\"domain\":[0,1],\"linecolor\":\"#333333\",\"linewidth\":1,\"mirror\":true,\"tickfont\":{\"color\":\"#444444\",\"family\":\"Arial\",\"size\":24},\"tickformatstops\":[{\"dtickrange\":[null,1000],\"value\":\"%H:%M:%S.%L\\n%Y:%j\"},{\"dtickrange\":[1000,60000],\"value\":\"%H:%M:%S\\n%Y:%j\"},{\"dtickrange\":[60000,315360000],\"value\":\"%Y:%j\"},{\"dtickrange\":[315360000,\"M1\"],\"value\":\"%e %b\\n%Y:%j\"},{\"dtickrange\":[\"M1\",\"M6\"],\"value\":\"%Y:%j\"},{\"dtickrange\":[\"M6\",null],\"value\":\"%Y\"}],\"zeroline\":false},\"yaxis\":{\"domain\":[0,1],\"linecolor\":\"#333333\",\"linewidth\":1,\"mirror\":true,\"tickfont\":{\"color\":\"#444444\",\"family\":\"Arial\",\"size\":24},\"title\":{\"font\":{\"color\":\"#444444\",\"family\":\"Arial\",\"size\":28},\"text\":\"Made up data\"},\"zeroline\":false}},                        {\"responsive\": true}                    ).then(function(){\n",
       "                            \n",
       "var gd = document.getElementById('0873c05b-3e49-40ba-a58b-2ee8d41dab1c');\n",
       "var x = new MutationObserver(function (mutations, observer) {{\n",
       "        var display = window.getComputedStyle(gd).display;\n",
       "        if (!display || display === 'none') {{\n",
       "            console.log([gd, 'removed!']);\n",
       "            Plotly.purge(gd);\n",
       "            observer.disconnect();\n",
       "        }}\n",
       "}});\n",
       "\n",
       "// Listen for the removal of the full notebook cells\n",
       "var notebookContainer = gd.closest('#notebook-container');\n",
       "if (notebookContainer) {{\n",
       "    x.observe(notebookContainer, {childList: true});\n",
       "}}\n",
       "\n",
       "// Listen for the clearing of the current output cell\n",
       "var outputEl = gd.closest('.output');\n",
       "if (outputEl) {{\n",
       "    x.observe(outputEl, {childList: true});\n",
       "}}\n",
       "\n",
       "                        })                };                });            </script>        </div>"
      ]
     },
     "metadata": {},
     "output_type": "display_data"
    }
   ],
   "source": [
    "pio.show(plot_object)"
   ]
  },
  {
   "cell_type": "code",
   "execution_count": null,
   "id": "be9461e3-64a6-43dc-a6ea-2e6607b93f2a",
   "metadata": {},
   "outputs": [],
   "source": []
  },
  {
   "cell_type": "code",
   "execution_count": null,
   "id": "7edf1082-0c34-4164-a95c-857de3797056",
   "metadata": {},
   "outputs": [],
   "source": []
  },
  {
   "cell_type": "code",
   "execution_count": null,
   "id": "afb55e46-8f45-4e59-905d-d148cc4e4d7e",
   "metadata": {},
   "outputs": [],
   "source": []
  }
 ],
 "metadata": {
  "kernelspec": {
   "display_name": "Python [conda env:ska3] *",
   "language": "python",
   "name": "conda-env-ska3-py"
  },
  "language_info": {
   "codemirror_mode": {
    "name": "ipython",
    "version": 3
   },
   "file_extension": ".py",
   "mimetype": "text/x-python",
   "name": "python",
   "nbconvert_exporter": "python",
   "pygments_lexer": "ipython3",
   "version": "3.12.8"
  }
 },
 "nbformat": 4,
 "nbformat_minor": 5
}
